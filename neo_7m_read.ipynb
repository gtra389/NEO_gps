{
 "cells": [
  {
   "cell_type": "code",
   "execution_count": null,
   "metadata": {},
   "outputs": [],
   "source": [
    "import serial\n",
    "import time"
   ]
  },
  {
   "cell_type": "code",
   "execution_count": null,
   "metadata": {},
   "outputs": [],
   "source": [
    "#port = \"/dev/ttyS0\"    # Raspberry Pi 3\n",
    "port = \"COM6\"\n",
    "ser = serial.Serial(port, baudrate = 9600, timeout = 0.4)\n",
    "\n",
    "print(\" -------Start-------\")\n",
    "\n",
    "now = time.strftime(\"%Y%m%d%H%M\")\n",
    "saveFid = \"neo_7m_read_{}.txt\".format(now)\n",
    "data = b''\n",
    "\n",
    "try:    \n",
    "    while ser.isOpen:\n",
    "        data = ser.readall()\n",
    "        if len(data) != 0: \n",
    "            print(data)\n",
    "            print(\"---\")        \n",
    "            with open(saveFid, \"a\") as file:\n",
    "                data = data.decode(\"utf-8\").replace(\"\\r\", \"\")\n",
    "                file.write(data)\n",
    "                file.write(\"---\\n\")\n",
    "            time.sleep(0.1)\n",
    "\n",
    "except KeyboardInterrupt:\n",
    "    print(\" -------Stop-------\")\n",
    "    ser.flushInput()\n",
    "    ser.close()"
   ]
  }
 ],
 "metadata": {
  "kernelspec": {
   "display_name": "Python 3",
   "language": "python",
   "name": "python3"
  },
  "language_info": {
   "codemirror_mode": {
    "name": "ipython",
    "version": 3
   },
   "file_extension": ".py",
   "mimetype": "text/x-python",
   "name": "python",
   "nbconvert_exporter": "python",
   "pygments_lexer": "ipython3",
   "version": "3.6.5"
  }
 },
 "nbformat": 4,
 "nbformat_minor": 2
}
